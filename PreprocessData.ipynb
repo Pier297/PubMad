{
 "cells": [
  {
   "cell_type": "code",
   "execution_count": 87,
   "metadata": {},
   "outputs": [],
   "source": [
    "import xml.etree.ElementTree as ET\n",
    "import pandas as pd\n",
    "import numpy as np\n",
    "tree = ET.parse('data/raw/pubmed22n1113.xml')\n",
    "root = tree.getroot()"
   ]
  },
  {
   "cell_type": "code",
   "execution_count": 2,
   "metadata": {},
   "outputs": [],
   "source": [
    "# <PubmedArticle>\n",
    "#     <MedlineCitation Status=\"In-Data-Review\" Owner=\"NLM\">\n",
    "#       <PMID Version=\"1\">34848605</PMID>\n",
    "#       <DateRevised>\n",
    "#         <Year>2021</Year>\n",
    "#         <Month>12</Month>\n",
    "#         <Day>01</Day>\n",
    "#       </DateRevised>\n",
    "#       <Article PubModel=\"Print\">\n",
    "#         <Journal>\n",
    "#           <ISSN IssnType=\"Electronic\">1572-0241</ISSN>\n",
    "#           <JournalIssue CitedMedium=\"Internet\">\n",
    "#             <Volume>116</Volume>\n",
    "#             <Issue>Suppl 1</Issue>\n",
    "#             <PubDate>\n",
    "#               <Year>2021</Year>\n",
    "#               <Month>Dec</Month>\n",
    "#               <Day>01</Day>\n",
    "#             </PubDate>\n",
    "#           </JournalIssue>\n",
    "#           <Title>The American journal of gastroenterology</Title>\n",
    "#           <ISOAbbreviation>Am J Gastroenterol</ISOAbbreviation>\n",
    "#         </Journal>\n",
    "#         <ArticleTitle>P018 How to Improve Transition of Pediatric IBD Patients Through Use of EMR.</ArticleTitle>\n",
    "#         <Pagination>\n",
    "#           <MedlinePgn>S4-S5</MedlinePgn>\n",
    "#         </Pagination>\n",
    "#         <ELocationID EIdType=\"doi\" ValidYN=\"Y\">10.14309/01.ajg.0000798672.52636.9c</ELocationID>\n",
    "#         <AuthorList CompleteYN=\"Y\">\n",
    "#           <Author ValidYN=\"Y\">\n",
    "#             <LastName>Guylda</LastName>\n",
    "#             <ForeName>Johnson</ForeName>\n",
    "#             <Initials>J</Initials>\n",
    "#             <AffiliationInfo>\n",
    "#               <Affiliation>University of Rochester Medical Center, Rochester, Minnesota, United States.</Affiliation>\n",
    "#             </AffiliationInfo>\n",
    "#           </Author>\n",
    "#           <Author ValidYN=\"Y\">\n",
    "#             <LastName>Christopher</LastName>\n",
    "#             <ForeName>Walker</ForeName>\n",
    "#             <Initials>W</Initials>\n",
    "#           </Author>\n",
    "#           <Author ValidYN=\"Y\">\n",
    "#             <LastName>John</LastName>\n",
    "#             <ForeName>Miller</ForeName>\n",
    "#             <Initials>M</Initials>\n",
    "#           </Author>\n",
    "#           <Author ValidYN=\"Y\">\n",
    "#             <LastName>Ashley</LastName>\n",
    "#             <ForeName>Steiger</ForeName>\n",
    "#             <Initials>S</Initials>\n",
    "#           </Author>\n",
    "#           <Author ValidYN=\"Y\">\n",
    "#             <LastName>Krystle</LastName>\n",
    "#             <ForeName>Bittner</ForeName>\n",
    "#             <Initials>B</Initials>\n",
    "#           </Author>\n",
    "#           <Author ValidYN=\"Y\">\n",
    "#             <LastName>Rebecca</LastName>\n",
    "#             <ForeName>Abell</ForeName>\n",
    "#             <Initials>A</Initials>\n",
    "#           </Author>\n",
    "#           <Author ValidYN=\"Y\">\n",
    "#             <LastName>Danielle</LastName>\n",
    "#             <ForeName>Marino</ForeName>\n",
    "#             <Initials>M</Initials>\n",
    "#           </Author>\n",
    "#         </AuthorList>\n",
    "#         <Language>eng</Language>\n",
    "#         <PublicationTypeList>\n",
    "#           <PublicationType UI=\"D016428\">Journal Article</PublicationType>\n",
    "#         </PublicationTypeList>\n",
    "#       </Article>\n",
    "#       <MedlineJournalInfo>\n",
    "#         <Country>United States</Country>\n",
    "#         <MedlineTA>Am J Gastroenterol</MedlineTA>\n",
    "#         <NlmUniqueID>0421030</NlmUniqueID>\n",
    "#         <ISSNLinking>0002-9270</ISSNLinking>\n",
    "#       </MedlineJournalInfo>\n",
    "#       <CitationSubset>IM</CitationSubset>\n",
    "#     </MedlineCitation>\n",
    "#     <PubmedData>\n",
    "#       <History>\n",
    "#         <PubMedPubDate PubStatus=\"received\">\n",
    "#           <Year>2021</Year>\n",
    "#           <Month>10</Month>\n",
    "#           <Day>14</Day>\n",
    "#         </PubMedPubDate>\n",
    "#         <PubMedPubDate PubStatus=\"entrez\">\n",
    "#           <Year>2021</Year>\n",
    "#           <Month>12</Month>\n",
    "#           <Day>1</Day>\n",
    "#           <Hour>6</Hour>\n",
    "#           <Minute>7</Minute>\n",
    "#         </PubMedPubDate>\n",
    "#         <PubMedPubDate PubStatus=\"pubmed\">\n",
    "#           <Year>2021</Year>\n",
    "#           <Month>12</Month>\n",
    "#           <Day>2</Day>\n",
    "#           <Hour>6</Hour>\n",
    "#           <Minute>0</Minute>\n",
    "#         </PubMedPubDate>\n",
    "#         <PubMedPubDate PubStatus=\"medline\">\n",
    "#           <Year>2021</Year>\n",
    "#           <Month>12</Month>\n",
    "#           <Day>2</Day>\n",
    "#           <Hour>6</Hour>\n",
    "#           <Minute>0</Minute>\n",
    "#         </PubMedPubDate>\n",
    "#       </History>\n",
    "#       <PublicationStatus>ppublish</PublicationStatus>\n",
    "#       <ArticleIdList>\n",
    "#         <ArticleId IdType=\"pubmed\">34848605</ArticleId>\n",
    "#         <ArticleId IdType=\"doi\">10.14309/01.ajg.0000798672.52636.9c</ArticleId>\n",
    "#         <ArticleId IdType=\"pii\">00000434-202112001-00019</ArticleId>\n",
    "#       </ArticleIdList>\n",
    "#     </PubmedData>\n",
    "#   </PubmedArticle>"
   ]
  },
  {
   "cell_type": "code",
   "execution_count": 3,
   "metadata": {},
   "outputs": [],
   "source": [
    "# For each article we want to extract the following information:\n",
    "# - Title => MedlineCitation/Article/ArticleTitle\n",
    "# - doi => PubmedData/ArticleIdList/ArticleId[@IdType='doi']\n",
    "# - pubmed_id => PubmedData/ArticleIdList/ArticleId[@IdType='pubmed']\n",
    "# - year_published => MedlineCitation/Article/Journal/JournalIssue/PubDate/Year\n",
    "# - month_published => MedlineCitation/Article/Journal/JournalIssue/PubDate/Month\n",
    "# - day_published => MedlineCitation/Article/Journal/JournalIssue/PubDate/Day\n",
    "# - Abstract => MedlineCitation/Article/Abstract/AbstractText"
   ]
  },
  {
   "cell_type": "code",
   "execution_count": 111,
   "metadata": {},
   "outputs": [],
   "source": [
    "articles = {\n",
    "    'title': [],\n",
    "    'doi': [],\n",
    "    'pubmed_id': [],\n",
    "    'year_published': [],\n",
    "    'month_published': [],\n",
    "    'day_published': [],\n",
    "    'abstract': []\n",
    "}"
   ]
  },
  {
   "cell_type": "code",
   "execution_count": 112,
   "metadata": {},
   "outputs": [
    {
     "name": "stdout",
     "output_type": "stream",
     "text": [
      "Skipped articles: 3466\n",
      "Skipped articles types: ['D017065', 'D016433', 'D016422', 'D017203', 'D029282', 'D016430', 'D017418', 'D054711', 'D000075742', 'D016440', 'D000076942', 'D016421', 'D016425', 'D013485', 'D004740', 'D059040', 'D016423', 'D000078182', 'D016439', 'D002363']\n"
     ]
    }
   ],
   "source": [
    "skipped_articles_types = []\n",
    "\n",
    "for pubmed_article in root:\n",
    "    # Check that:\n",
    "    # <PublicationTypeList>\n",
    "    #      <PublicationType UI=\"D016428\">Journal Article</PublicationType>\n",
    "    #    </PublicationTypeList>\n",
    "    # the PublicationType is Journal Article\n",
    "    if pubmed_article.find('MedlineCitation/Article/PublicationTypeList/PublicationType').get('UI') != 'D016428':\n",
    "        skipped_articles_types.append(pubmed_article.find('MedlineCitation/Article/PublicationTypeList/PublicationType').get('UI'))\n",
    "        continue # skip this article\n",
    "\n",
    "    title = pubmed_article.find('MedlineCitation/Article/ArticleTitle')\n",
    "    title = ET.tostring(title, encoding='utf-8').decode('utf-8')\n",
    "    title = title.replace('<ArticleTitle>', '').replace('</ArticleTitle>', '')\n",
    "    # Remove the \\n\n",
    "    title = title.replace('\\n', '')\n",
    "    # Skip the first P*** in the title\n",
    "    # Check if the title starts with a P followed by 3 numbers 0-9\n",
    "    if title[0] == 'P' and title[1:4].isdigit():\n",
    "        title = title[5:]\n",
    "\n",
    "    doi = pubmed_article.find('PubmedData/ArticleIdList/ArticleId[@IdType=\"doi\"]')\n",
    "    doi = doi.text if doi is not None else np.nan\n",
    "    \n",
    "    pubmed_id = pubmed_article.find('PubmedData/ArticleIdList/ArticleId[@IdType=\"pubmed\"]').text\n",
    "\n",
    "    year_pub = pubmed_article.find('MedlineCitation/Article/Journal/JournalIssue/PubDate/Year')\n",
    "    month_pub = pubmed_article.find('MedlineCitation/Article/Journal/JournalIssue/PubDate/Month')\n",
    "    day_pub = pubmed_article.find('MedlineCitation/Article/Journal/JournalIssue/PubDate/Day')\n",
    "\n",
    "    year_published = pubmed_article.find('MedlineCitation/Article/Journal/JournalIssue/PubDate/Year').text if year_pub is not None else np.nan\n",
    "    month_published = pubmed_article.find('MedlineCitation/Article/Journal/JournalIssue/PubDate/Month').text if month_pub is not None else np.nan\n",
    "    day_published = pubmed_article.find('MedlineCitation/Article/Journal/JournalIssue/PubDate/Day').text if day_pub is not None else np.nan\n",
    "    \n",
    "    ab = pubmed_article.find('MedlineCitation/Article/Abstract/AbstractText')\n",
    "    if ab is not None:\n",
    "        abstract = ab.text\n",
    "    else:\n",
    "        abstract = np.nan\n",
    "\n",
    "    # print('Title:', title)\n",
    "    # print('doi:', doi)\n",
    "    # print('pubmed_id:', pubmed_id)\n",
    "    # print('year_published:', year_published)\n",
    "    # print('month_published:', month_published)\n",
    "    # print('day_published:', day_published)\n",
    "    # print('abstract:', abstract)\n",
    "    # print()\n",
    "    # break\n",
    "    articles['title'].append(title)\n",
    "    articles['doi'].append(doi)\n",
    "    articles['pubmed_id'].append(pubmed_id)\n",
    "    articles['year_published'].append(year_published)\n",
    "    articles['month_published'].append(month_published)\n",
    "    articles['day_published'].append(day_published)\n",
    "    articles['abstract'].append(abstract)\n",
    "\n",
    "print('Skipped articles:', len(skipped_articles_types))\n",
    "print('Skipped articles types:', list(set(skipped_articles_types))) # TODO: Check if some of these are actually valid"
   ]
  },
  {
   "cell_type": "code",
   "execution_count": 113,
   "metadata": {},
   "outputs": [
    {
     "name": "stdout",
     "output_type": "stream",
     "text": [
      "(26534, 7)\n"
     ]
    },
    {
     "data": {
      "text/html": [
       "<div>\n",
       "<style scoped>\n",
       "    .dataframe tbody tr th:only-of-type {\n",
       "        vertical-align: middle;\n",
       "    }\n",
       "\n",
       "    .dataframe tbody tr th {\n",
       "        vertical-align: top;\n",
       "    }\n",
       "\n",
       "    .dataframe thead th {\n",
       "        text-align: right;\n",
       "    }\n",
       "</style>\n",
       "<table border=\"1\" class=\"dataframe\">\n",
       "  <thead>\n",
       "    <tr style=\"text-align: right;\">\n",
       "      <th></th>\n",
       "      <th>title</th>\n",
       "      <th>doi</th>\n",
       "      <th>pubmed_id</th>\n",
       "      <th>year_published</th>\n",
       "      <th>month_published</th>\n",
       "      <th>day_published</th>\n",
       "      <th>abstract</th>\n",
       "    </tr>\n",
       "  </thead>\n",
       "  <tbody>\n",
       "    <tr>\n",
       "      <th>0</th>\n",
       "      <td>How to Improve Transition of Pediatric IBD Pat...</td>\n",
       "      <td>10.14309/01.ajg.0000798672.52636.9c</td>\n",
       "      <td>34848605</td>\n",
       "      <td>2021</td>\n",
       "      <td>Dec</td>\n",
       "      <td>01</td>\n",
       "      <td>NaN</td>\n",
       "    </tr>\n",
       "    <tr>\n",
       "      <th>1</th>\n",
       "      <td>Not All Fecal Calprotectin is Specific for Inf...</td>\n",
       "      <td>10.14309/01.ajg.0000798676.11183.dd</td>\n",
       "      <td>34848606</td>\n",
       "      <td>2021</td>\n",
       "      <td>Dec</td>\n",
       "      <td>01</td>\n",
       "      <td>NaN</td>\n",
       "    </tr>\n",
       "    <tr>\n",
       "      <th>2</th>\n",
       "      <td>WITHDRAWN.</td>\n",
       "      <td>10.14309/01.ajg.0000798684.47571.9e</td>\n",
       "      <td>34848608</td>\n",
       "      <td>2021</td>\n",
       "      <td>Dec</td>\n",
       "      <td>01</td>\n",
       "      <td>NaN</td>\n",
       "    </tr>\n",
       "    <tr>\n",
       "      <th>3</th>\n",
       "      <td>Proton Pump Inhibitor Therapy: Providing \"Acid...</td>\n",
       "      <td>10.14309/01.ajg.0000798680.74472.80</td>\n",
       "      <td>34848607</td>\n",
       "      <td>2021</td>\n",
       "      <td>Dec</td>\n",
       "      <td>01</td>\n",
       "      <td>NaN</td>\n",
       "    </tr>\n",
       "    <tr>\n",
       "      <th>4</th>\n",
       "      <td>Biologic Therapy and Therapeutic Drug Monitori...</td>\n",
       "      <td>10.14309/01.ajg.0000798688.16985.68</td>\n",
       "      <td>34848609</td>\n",
       "      <td>2021</td>\n",
       "      <td>Dec</td>\n",
       "      <td>01</td>\n",
       "      <td>NaN</td>\n",
       "    </tr>\n",
       "  </tbody>\n",
       "</table>\n",
       "</div>"
      ],
      "text/plain": [
       "                                               title  \\\n",
       "0  How to Improve Transition of Pediatric IBD Pat...   \n",
       "1  Not All Fecal Calprotectin is Specific for Inf...   \n",
       "2                                 WITHDRAWN.           \n",
       "3  Proton Pump Inhibitor Therapy: Providing \"Acid...   \n",
       "4  Biologic Therapy and Therapeutic Drug Monitori...   \n",
       "\n",
       "                                   doi pubmed_id year_published  \\\n",
       "0  10.14309/01.ajg.0000798672.52636.9c  34848605           2021   \n",
       "1  10.14309/01.ajg.0000798676.11183.dd  34848606           2021   \n",
       "2  10.14309/01.ajg.0000798684.47571.9e  34848608           2021   \n",
       "3  10.14309/01.ajg.0000798680.74472.80  34848607           2021   \n",
       "4  10.14309/01.ajg.0000798688.16985.68  34848609           2021   \n",
       "\n",
       "  month_published day_published abstract  \n",
       "0             Dec            01      NaN  \n",
       "1             Dec            01      NaN  \n",
       "2             Dec            01      NaN  \n",
       "3             Dec            01      NaN  \n",
       "4             Dec            01      NaN  "
      ]
     },
     "execution_count": 113,
     "metadata": {},
     "output_type": "execute_result"
    }
   ],
   "source": [
    "df = pd.DataFrame(articles)\n",
    "print(df.shape)\n",
    "df.head()"
   ]
  },
  {
   "cell_type": "code",
   "execution_count": 114,
   "metadata": {},
   "outputs": [
    {
     "data": {
      "text/plain": [
       "title                 0\n",
       "doi                 351\n",
       "pubmed_id             0\n",
       "year_published      519\n",
       "month_published    5254\n",
       "day_published      8647\n",
       "abstract           3202\n",
       "dtype: int64"
      ]
     },
     "execution_count": 114,
     "metadata": {},
     "output_type": "execute_result"
    }
   ],
   "source": [
    "# Count the number of articles with NaN values\n",
    "df.isna().sum()"
   ]
  },
  {
   "cell_type": "code",
   "execution_count": 115,
   "metadata": {},
   "outputs": [],
   "source": [
    "# Remove all rows with NaN abstract\n",
    "df.dropna(subset=['abstract'], inplace=True)"
   ]
  },
  {
   "cell_type": "code",
   "execution_count": 116,
   "metadata": {},
   "outputs": [
    {
     "data": {
      "text/plain": [
       "title                 0\n",
       "doi                 305\n",
       "pubmed_id             0\n",
       "year_published      397\n",
       "month_published    4321\n",
       "day_published      7092\n",
       "abstract              0\n",
       "dtype: int64"
      ]
     },
     "execution_count": 116,
     "metadata": {},
     "output_type": "execute_result"
    }
   ],
   "source": [
    "# Count the number of articles with NaN values\n",
    "df.isna().sum()"
   ]
  },
  {
   "cell_type": "code",
   "execution_count": 117,
   "metadata": {},
   "outputs": [
    {
     "data": {
      "text/html": [
       "<div>\n",
       "<style scoped>\n",
       "    .dataframe tbody tr th:only-of-type {\n",
       "        vertical-align: middle;\n",
       "    }\n",
       "\n",
       "    .dataframe tbody tr th {\n",
       "        vertical-align: top;\n",
       "    }\n",
       "\n",
       "    .dataframe thead th {\n",
       "        text-align: right;\n",
       "    }\n",
       "</style>\n",
       "<table border=\"1\" class=\"dataframe\">\n",
       "  <thead>\n",
       "    <tr style=\"text-align: right;\">\n",
       "      <th></th>\n",
       "      <th>title</th>\n",
       "      <th>doi</th>\n",
       "      <th>pubmed_id</th>\n",
       "      <th>year_published</th>\n",
       "      <th>month_published</th>\n",
       "      <th>day_published</th>\n",
       "      <th>abstract</th>\n",
       "    </tr>\n",
       "  </thead>\n",
       "  <tbody>\n",
       "    <tr>\n",
       "      <th>2104</th>\n",
       "      <td>GenBank.</td>\n",
       "      <td>10.1093/nar/gkab1135</td>\n",
       "      <td>34850943</td>\n",
       "      <td>2021</td>\n",
       "      <td>Dec</td>\n",
       "      <td>01</td>\n",
       "      <td>GenBank® (https://www.ncbi.nlm.nih.gov/genbank...</td>\n",
       "    </tr>\n",
       "  </tbody>\n",
       "</table>\n",
       "</div>"
      ],
      "text/plain": [
       "                 title                   doi pubmed_id year_published  \\\n",
       "2104  GenBank.          10.1093/nar/gkab1135  34850943           2021   \n",
       "\n",
       "     month_published day_published  \\\n",
       "2104             Dec            01   \n",
       "\n",
       "                                               abstract  \n",
       "2104  GenBank® (https://www.ncbi.nlm.nih.gov/genbank...  "
      ]
     },
     "execution_count": 117,
     "metadata": {},
     "output_type": "execute_result"
    }
   ],
   "source": [
    "# Find the min lenght of the title\n",
    "min_title_length = df['title'].str.len().min()\n",
    "min_title_length\n",
    "\n",
    "# Print the titles with the min length\n",
    "df[df['title'].str.len() == min_title_length]"
   ]
  },
  {
   "cell_type": "markdown",
   "metadata": {},
   "source": [
    "df[df['title'] == \"REMOVED.\"]"
   ]
  },
  {
   "cell_type": "code",
   "execution_count": 118,
   "metadata": {},
   "outputs": [
    {
     "data": {
      "text/html": [
       "<div>\n",
       "<style scoped>\n",
       "    .dataframe tbody tr th:only-of-type {\n",
       "        vertical-align: middle;\n",
       "    }\n",
       "\n",
       "    .dataframe tbody tr th {\n",
       "        vertical-align: top;\n",
       "    }\n",
       "\n",
       "    .dataframe thead th {\n",
       "        text-align: right;\n",
       "    }\n",
       "</style>\n",
       "<table border=\"1\" class=\"dataframe\">\n",
       "  <thead>\n",
       "    <tr style=\"text-align: right;\">\n",
       "      <th></th>\n",
       "      <th>title</th>\n",
       "      <th>doi</th>\n",
       "      <th>pubmed_id</th>\n",
       "      <th>year_published</th>\n",
       "      <th>month_published</th>\n",
       "      <th>day_published</th>\n",
       "      <th>abstract</th>\n",
       "    </tr>\n",
       "  </thead>\n",
       "  <tbody>\n",
       "  </tbody>\n",
       "</table>\n",
       "</div>"
      ],
      "text/plain": [
       "Empty DataFrame\n",
       "Columns: [title, doi, pubmed_id, year_published, month_published, day_published, abstract]\n",
       "Index: []"
      ]
     },
     "execution_count": 118,
     "metadata": {},
     "output_type": "execute_result"
    }
   ],
   "source": [
    "df[df['title'].str.len() == min_title_length+1]"
   ]
  },
  {
   "cell_type": "code",
   "execution_count": 119,
   "metadata": {},
   "outputs": [
    {
     "data": {
      "text/html": [
       "<div>\n",
       "<style scoped>\n",
       "    .dataframe tbody tr th:only-of-type {\n",
       "        vertical-align: middle;\n",
       "    }\n",
       "\n",
       "    .dataframe tbody tr th {\n",
       "        vertical-align: top;\n",
       "    }\n",
       "\n",
       "    .dataframe thead th {\n",
       "        text-align: right;\n",
       "    }\n",
       "</style>\n",
       "<table border=\"1\" class=\"dataframe\">\n",
       "  <thead>\n",
       "    <tr style=\"text-align: right;\">\n",
       "      <th></th>\n",
       "      <th>title</th>\n",
       "      <th>doi</th>\n",
       "      <th>pubmed_id</th>\n",
       "      <th>year_published</th>\n",
       "      <th>month_published</th>\n",
       "      <th>day_published</th>\n",
       "      <th>abstract</th>\n",
       "    </tr>\n",
       "  </thead>\n",
       "  <tbody>\n",
       "  </tbody>\n",
       "</table>\n",
       "</div>"
      ],
      "text/plain": [
       "Empty DataFrame\n",
       "Columns: [title, doi, pubmed_id, year_published, month_published, day_published, abstract]\n",
       "Index: []"
      ]
     },
     "execution_count": 119,
     "metadata": {},
     "output_type": "execute_result"
    }
   ],
   "source": [
    "df[df['title'].str.len() == min_title_length+2]"
   ]
  },
  {
   "cell_type": "code",
   "execution_count": 120,
   "metadata": {},
   "outputs": [
    {
     "data": {
      "text/html": [
       "<div>\n",
       "<style scoped>\n",
       "    .dataframe tbody tr th:only-of-type {\n",
       "        vertical-align: middle;\n",
       "    }\n",
       "\n",
       "    .dataframe tbody tr th {\n",
       "        vertical-align: top;\n",
       "    }\n",
       "\n",
       "    .dataframe thead th {\n",
       "        text-align: right;\n",
       "    }\n",
       "</style>\n",
       "<table border=\"1\" class=\"dataframe\">\n",
       "  <thead>\n",
       "    <tr style=\"text-align: right;\">\n",
       "      <th></th>\n",
       "      <th>title</th>\n",
       "      <th>doi</th>\n",
       "      <th>pubmed_id</th>\n",
       "      <th>year_published</th>\n",
       "      <th>month_published</th>\n",
       "      <th>day_published</th>\n",
       "      <th>abstract</th>\n",
       "    </tr>\n",
       "  </thead>\n",
       "  <tbody>\n",
       "    <tr>\n",
       "      <th>6267</th>\n",
       "      <td>Gout Storm.</td>\n",
       "      <td>10.12659/AJCR.932683</td>\n",
       "      <td>34855717</td>\n",
       "      <td>2021</td>\n",
       "      <td>Sep</td>\n",
       "      <td>20</td>\n",
       "      <td>BACKGROUND Gout is a chronic disease character...</td>\n",
       "    </tr>\n",
       "  </tbody>\n",
       "</table>\n",
       "</div>"
      ],
      "text/plain": [
       "                    title                   doi pubmed_id year_published  \\\n",
       "6267  Gout Storm.          10.12659/AJCR.932683  34855717           2021   \n",
       "\n",
       "     month_published day_published  \\\n",
       "6267             Sep            20   \n",
       "\n",
       "                                               abstract  \n",
       "6267  BACKGROUND Gout is a chronic disease character...  "
      ]
     },
     "execution_count": 120,
     "metadata": {},
     "output_type": "execute_result"
    }
   ],
   "source": [
    "df[df['title'].str.len() == min_title_length+3]"
   ]
  },
  {
   "cell_type": "code",
   "execution_count": 121,
   "metadata": {},
   "outputs": [
    {
     "data": {
      "text/html": [
       "<div>\n",
       "<style scoped>\n",
       "    .dataframe tbody tr th:only-of-type {\n",
       "        vertical-align: middle;\n",
       "    }\n",
       "\n",
       "    .dataframe tbody tr th {\n",
       "        vertical-align: top;\n",
       "    }\n",
       "\n",
       "    .dataframe thead th {\n",
       "        text-align: right;\n",
       "    }\n",
       "</style>\n",
       "<table border=\"1\" class=\"dataframe\">\n",
       "  <thead>\n",
       "    <tr style=\"text-align: right;\">\n",
       "      <th></th>\n",
       "      <th>title</th>\n",
       "      <th>doi</th>\n",
       "      <th>pubmed_id</th>\n",
       "      <th>year_published</th>\n",
       "      <th>month_published</th>\n",
       "      <th>day_published</th>\n",
       "      <th>abstract</th>\n",
       "    </tr>\n",
       "  </thead>\n",
       "  <tbody>\n",
       "  </tbody>\n",
       "</table>\n",
       "</div>"
      ],
      "text/plain": [
       "Empty DataFrame\n",
       "Columns: [title, doi, pubmed_id, year_published, month_published, day_published, abstract]\n",
       "Index: []"
      ]
     },
     "execution_count": 121,
     "metadata": {},
     "output_type": "execute_result"
    }
   ],
   "source": [
    "df[df['title'].str.len() == min_title_length+4]"
   ]
  },
  {
   "cell_type": "code",
   "execution_count": 122,
   "metadata": {},
   "outputs": [
    {
     "data": {
      "text/html": [
       "<div>\n",
       "<style scoped>\n",
       "    .dataframe tbody tr th:only-of-type {\n",
       "        vertical-align: middle;\n",
       "    }\n",
       "\n",
       "    .dataframe tbody tr th {\n",
       "        vertical-align: top;\n",
       "    }\n",
       "\n",
       "    .dataframe thead th {\n",
       "        text-align: right;\n",
       "    }\n",
       "</style>\n",
       "<table border=\"1\" class=\"dataframe\">\n",
       "  <thead>\n",
       "    <tr style=\"text-align: right;\">\n",
       "      <th></th>\n",
       "      <th>title</th>\n",
       "      <th>doi</th>\n",
       "      <th>pubmed_id</th>\n",
       "      <th>year_published</th>\n",
       "      <th>month_published</th>\n",
       "      <th>day_published</th>\n",
       "      <th>abstract</th>\n",
       "    </tr>\n",
       "  </thead>\n",
       "  <tbody>\n",
       "  </tbody>\n",
       "</table>\n",
       "</div>"
      ],
      "text/plain": [
       "Empty DataFrame\n",
       "Columns: [title, doi, pubmed_id, year_published, month_published, day_published, abstract]\n",
       "Index: []"
      ]
     },
     "execution_count": 122,
     "metadata": {},
     "output_type": "execute_result"
    }
   ],
   "source": [
    "df[df['title'].str.len() == min_title_length+5]"
   ]
  },
  {
   "cell_type": "code",
   "execution_count": 123,
   "metadata": {},
   "outputs": [
    {
     "data": {
      "text/html": [
       "<div>\n",
       "<style scoped>\n",
       "    .dataframe tbody tr th:only-of-type {\n",
       "        vertical-align: middle;\n",
       "    }\n",
       "\n",
       "    .dataframe tbody tr th {\n",
       "        vertical-align: top;\n",
       "    }\n",
       "\n",
       "    .dataframe thead th {\n",
       "        text-align: right;\n",
       "    }\n",
       "</style>\n",
       "<table border=\"1\" class=\"dataframe\">\n",
       "  <thead>\n",
       "    <tr style=\"text-align: right;\">\n",
       "      <th></th>\n",
       "      <th>title</th>\n",
       "      <th>doi</th>\n",
       "      <th>pubmed_id</th>\n",
       "      <th>year_published</th>\n",
       "      <th>month_published</th>\n",
       "      <th>day_published</th>\n",
       "      <th>abstract</th>\n",
       "    </tr>\n",
       "  </thead>\n",
       "  <tbody>\n",
       "    <tr>\n",
       "      <th>23558</th>\n",
       "      <td>Seaweed rafts.</td>\n",
       "      <td>10.1016/j.cub.2021.10.053</td>\n",
       "      <td>34875235</td>\n",
       "      <td>2021</td>\n",
       "      <td>Dec</td>\n",
       "      <td>06</td>\n",
       "      <td>Jonathan Waters provides an introduction to se...</td>\n",
       "    </tr>\n",
       "  </tbody>\n",
       "</table>\n",
       "</div>"
      ],
      "text/plain": [
       "                        title                        doi pubmed_id  \\\n",
       "23558  Seaweed rafts.          10.1016/j.cub.2021.10.053  34875235   \n",
       "\n",
       "      year_published month_published day_published  \\\n",
       "23558           2021             Dec            06   \n",
       "\n",
       "                                                abstract  \n",
       "23558  Jonathan Waters provides an introduction to se...  "
      ]
     },
     "execution_count": 123,
     "metadata": {},
     "output_type": "execute_result"
    }
   ],
   "source": [
    "df[df['title'].str.len() == min_title_length+6]"
   ]
  },
  {
   "cell_type": "code",
   "execution_count": null,
   "metadata": {},
   "outputs": [],
   "source": []
  }
 ],
 "metadata": {
  "interpreter": {
   "hash": "9b2120b0b1cf5c9fe68ebabfb7355e67e61059552f9a9ea159e643906ca85e58"
  },
  "kernelspec": {
   "display_name": "Python 3.9.7 ('base')",
   "language": "python",
   "name": "python3"
  },
  "language_info": {
   "codemirror_mode": {
    "name": "ipython",
    "version": 3
   },
   "file_extension": ".py",
   "mimetype": "text/x-python",
   "name": "python",
   "nbconvert_exporter": "python",
   "pygments_lexer": "ipython3",
   "version": "3.9.7"
  },
  "orig_nbformat": 4
 },
 "nbformat": 4,
 "nbformat_minor": 2
}
